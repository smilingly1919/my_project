{
 "cells": [
  {
   "cell_type": "code",
   "execution_count": null,
   "id": "153d4087",
   "metadata": {},
   "outputs": [
    {
     "name": "stdout",
     "output_type": "stream",
     "text": [
      "2\n"
     ]
    }
   ],
   "source": [
    "import sys, os\n",
    "sys.path.append(os.path.abspath('..'))  # 相对于当前 Notebook 的目录\n",
    "# sys.path.append(os.path.abspath(os.path.join(os.path.dirname(__file__), '..'))) #对于py文件\n",
    "from sdf_utils import a\n",
    "# python -m sdf_utils 作为包导入\n",
    "print(a(123))"
   ]
  }
 ],
 "metadata": {
  "kernelspec": {
   "display_name": "base",
   "language": "python",
   "name": "python3"
  },
  "language_info": {
   "codemirror_mode": {
    "name": "ipython",
    "version": 3
   },
   "file_extension": ".py",
   "mimetype": "text/x-python",
   "name": "python",
   "nbconvert_exporter": "python",
   "pygments_lexer": "ipython3",
   "version": "3.12.3"
  }
 },
 "nbformat": 4,
 "nbformat_minor": 5
}
