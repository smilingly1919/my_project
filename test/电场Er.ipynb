{
 "cells": [
  {
   "cell_type": "code",
   "execution_count": null,
   "id": "c8a64fe1",
   "metadata": {},
   "outputs": [],
   "source": [
    "import sys, os\n",
    "sys.path.append(os.path.abspath('..'))\n",
    "import sdf_helper as sh\n",
    "import numpy as np\n",
    "import matplotlib.pyplot as plt\n",
    "from sdf_utils import *\n",
    "\n",
    "# === 文件路径设置 ===\n",
    "base_dir0 = '/media/lan/4248e56e-6d9a-4026-afad-e8b1d59ceab0/epoch/epoch3d/Cpf-Work/cone/cone1-a=145-0.5微米'\n",
    "base_dir1 = '/media/lan/4248e56e-6d9a-4026-afad-e8b1d59ceab0/epoch/epoch3d/Cpf-Work/cone/cone1-a=145-3微米'\n",
    "file_name = 'field0008.sdf'\n",
    "\n",
    "file_path0 = os.path.join(base_dir0, file_name)\n",
    "file_path1 = os.path.join(base_dir1, file_name)\n",
    "\n",
    "# === 加载字段数据 ===\n",
    "result0 = load_field(file_path0)\n",
    "result1 = load_field(file_path1)\n",
    "\n",
    "Ey0 = result0['Ey']\n",
    "Ez0 = result0['Ez']\n",
    "Ey1 = result1['Ey']\n",
    "Ez1 = result1['Ez']\n",
    "\n",
    "x = result0['x']\n",
    "y = result0['y']\n",
    "z = result0['z']"
   ]
  }
 ],
 "metadata": {
  "kernelspec": {
   "display_name": "py312",
   "language": "python",
   "name": "python3"
  },
  "language_info": {
   "codemirror_mode": {
    "name": "ipython",
    "version": 3
   },
   "file_extension": ".py",
   "mimetype": "text/x-python",
   "name": "python",
   "nbconvert_exporter": "python",
   "pygments_lexer": "ipython3",
   "version": "3.12.11"
  }
 },
 "nbformat": 4,
 "nbformat_minor": 5
}
